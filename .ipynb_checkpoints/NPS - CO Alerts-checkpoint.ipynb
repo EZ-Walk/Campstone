{
 "cells": [
  {
   "cell_type": "markdown",
   "id": "05085c74",
   "metadata": {},
   "source": [
    "# Alerts\n",
    "### NPS API\n",
    "\n",
    "- API key (James'): *Vsv3OfLMOGtoptQS7V5zvYIKawJZ29UbTErkVLgl*\n",
    "- NPS API Documentation URL: https://www.nps.gov/subjects/developer/api-documentation.htm\n",
    "- NPS Github URL: https://github.com/nationalparkservice/nps-api-samples/blob/master/park-names-by-state.py"
   ]
  },
  {
   "cell_type": "code",
   "execution_count": 3,
   "id": "b80f83f6",
   "metadata": {},
   "outputs": [],
   "source": [
    "import requests\n",
    "import pandas as pd\n",
    "import json"
   ]
  },
  {
   "cell_type": "code",
   "execution_count": 4,
   "id": "813bd277",
   "metadata": {},
   "outputs": [],
   "source": [
    "api_key='&api_key=Vsv3OfLMOGtoptQS7V5zvYIKawJZ29UbTErkVLgl'\n",
    "\n",
    "url = 'https://developer.nps.gov/api/v1/alerts?stateCode=co'\n",
    "limits='&start=0&limit=50'\n",
    "r = requests.get(url+limits+api_key)\n",
    "content = r.content\n",
    "data = json.loads(content.decode('utf-8'))"
   ]
  },
  {
   "cell_type": "code",
   "execution_count": 5,
   "id": "448934f4",
   "metadata": {},
   "outputs": [
    {
     "data": {
      "text/plain": [
       "25"
      ]
     },
     "execution_count": 5,
     "metadata": {},
     "output_type": "execute_result"
    }
   ],
   "source": [
    "len(data['data'])"
   ]
  },
  {
   "cell_type": "code",
   "execution_count": 9,
   "id": "6acf1d9d",
   "metadata": {},
   "outputs": [
    {
     "data": {
      "text/plain": [
       "{'id': '16A87D92-610A-4FD8-9423-AB0996E938C2',\n",
       " 'url': '',\n",
       " 'title': 'Winter Driving Conditions on Rim Rock Drive',\n",
       " 'parkCode': 'colm',\n",
       " 'description': 'Winter snowstorms will cause Rim Rock Drive to have icy and snow packed conditions. Even if the road conditions are good at the entrances they may change at higher elevations. Call 970-858-3617 ext 311 for a daily update on the road conditions.',\n",
       " 'category': 'Caution',\n",
       " 'lastIndexedDate': '2020-01-27 12:49:14.0'}"
      ]
     },
     "execution_count": 9,
     "metadata": {},
     "output_type": "execute_result"
    }
   ],
   "source": [
    "data['data'][24]"
   ]
  },
  {
   "cell_type": "code",
   "execution_count": null,
   "id": "832245f4",
   "metadata": {},
   "outputs": [],
   "source": []
  }
 ],
 "metadata": {
  "kernelspec": {
   "display_name": "Python 3 (ipykernel)",
   "language": "python",
   "name": "python3"
  },
  "language_info": {
   "codemirror_mode": {
    "name": "ipython",
    "version": 3
   },
   "file_extension": ".py",
   "mimetype": "text/x-python",
   "name": "python",
   "nbconvert_exporter": "python",
   "pygments_lexer": "ipython3",
   "version": "3.8.11"
  }
 },
 "nbformat": 4,
 "nbformat_minor": 5
}
