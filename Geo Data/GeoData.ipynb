{
 "cells": [
  {
   "cell_type": "code",
   "execution_count": 43,
   "id": "97770d10",
   "metadata": {},
   "outputs": [],
   "source": [
    "import plotly.express as px\n",
    "import geopandas as gpd\n",
    "import pandas as pd\n",
    "import json"
   ]
  },
  {
   "cell_type": "code",
   "execution_count": 57,
   "id": "e8384f5e",
   "metadata": {},
   "outputs": [
    {
     "data": {
      "text/html": [
       "<div>\n",
       "<style scoped>\n",
       "    .dataframe tbody tr th:only-of-type {\n",
       "        vertical-align: middle;\n",
       "    }\n",
       "\n",
       "    .dataframe tbody tr th {\n",
       "        vertical-align: top;\n",
       "    }\n",
       "\n",
       "    .dataframe thead th {\n",
       "        text-align: right;\n",
       "    }\n",
       "</style>\n",
       "<table border=\"1\" class=\"dataframe\">\n",
       "  <thead>\n",
       "    <tr style=\"text-align: right;\">\n",
       "      <th></th>\n",
       "      <th>park_name</th>\n",
       "      <th>geometry</th>\n",
       "    </tr>\n",
       "  </thead>\n",
       "  <tbody>\n",
       "    <tr>\n",
       "      <th>0</th>\n",
       "      <td>Aspenglen Campground</td>\n",
       "      <td>POINT (-105.59305 40.39935)</td>\n",
       "    </tr>\n",
       "    <tr>\n",
       "      <th>1</th>\n",
       "      <td>Backpacking Campsites in the Dunes or Forest</td>\n",
       "      <td>POINT (-105.53560 37.77724)</td>\n",
       "    </tr>\n",
       "    <tr>\n",
       "      <th>2</th>\n",
       "      <td>Cimarron Campground</td>\n",
       "      <td>POINT (-107.55554 38.44430)</td>\n",
       "    </tr>\n",
       "    <tr>\n",
       "      <th>3</th>\n",
       "      <td>Deerlodge Park Campground</td>\n",
       "      <td>POINT (-108.51330 40.44648)</td>\n",
       "    </tr>\n",
       "    <tr>\n",
       "      <th>4</th>\n",
       "      <td>Dry Gulch Campground</td>\n",
       "      <td>POINT (-107.18844 38.48411)</td>\n",
       "    </tr>\n",
       "    <tr>\n",
       "      <th>5</th>\n",
       "      <td>East Elk Creek Group Campground</td>\n",
       "      <td>POINT (-107.18833 38.48417)</td>\n",
       "    </tr>\n",
       "    <tr>\n",
       "      <th>6</th>\n",
       "      <td>East Portal Campground</td>\n",
       "      <td>POINT (-107.64948 38.52706)</td>\n",
       "    </tr>\n",
       "    <tr>\n",
       "      <th>7</th>\n",
       "      <td>East Portal Campground</td>\n",
       "      <td>POINT (-107.64931 38.52690)</td>\n",
       "    </tr>\n",
       "    <tr>\n",
       "      <th>8</th>\n",
       "      <td>Echo Park Campground</td>\n",
       "      <td>POINT (-108.99323 40.52087)</td>\n",
       "    </tr>\n",
       "    <tr>\n",
       "      <th>9</th>\n",
       "      <td>Elk Creek Campground</td>\n",
       "      <td>POINT (-107.17207 38.46742)</td>\n",
       "    </tr>\n",
       "  </tbody>\n",
       "</table>\n",
       "</div>"
      ],
      "text/plain": [
       "                                      park_name                     geometry\n",
       "0                          Aspenglen Campground  POINT (-105.59305 40.39935)\n",
       "1  Backpacking Campsites in the Dunes or Forest  POINT (-105.53560 37.77724)\n",
       "2                           Cimarron Campground  POINT (-107.55554 38.44430)\n",
       "3                     Deerlodge Park Campground  POINT (-108.51330 40.44648)\n",
       "4                          Dry Gulch Campground  POINT (-107.18844 38.48411)\n",
       "5               East Elk Creek Group Campground  POINT (-107.18833 38.48417)\n",
       "6                        East Portal Campground  POINT (-107.64948 38.52706)\n",
       "7                        East Portal Campground  POINT (-107.64931 38.52690)\n",
       "8                          Echo Park Campground  POINT (-108.99323 40.52087)\n",
       "9                          Elk Creek Campground  POINT (-107.17207 38.46742)"
      ]
     },
     "execution_count": 57,
     "metadata": {},
     "output_type": "execute_result"
    }
   ],
   "source": [
    "with open('geodata.txt','r') as file:\n",
    "    text = file.read()\n",
    "    file.close()\n",
    "    \n",
    "text = text.replace(\"'\",'\"')\n",
    "geo_dict = json.loads(text)\n",
    "    \n",
    "df = pd.DataFrame(geo_dict)\n",
    "\n",
    "gdf = gpd.GeoDataFrame(\n",
    "    df, geometry=gpd.points_from_xy(df.longitude, df.latitude))\n",
    "gdf = gdf[['park_name','geometry']]\n",
    "gdf.head(10)"
   ]
  },
  {
   "cell_type": "code",
   "execution_count": 83,
   "id": "7651e73b",
   "metadata": {},
   "outputs": [
    {
     "ename": "TypeError",
     "evalue": "scatter_mapbox() got an unexpected keyword argument 'alpha'",
     "output_type": "error",
     "traceback": [
      "\u001b[0;31m---------------------------------------------------------------------------\u001b[0m",
      "\u001b[0;31mTypeError\u001b[0m                                 Traceback (most recent call last)",
      "\u001b[0;32m/var/folders/qj/zjccl5gd65q0s7566979cj000000gn/T/ipykernel_20592/635928925.py\u001b[0m in \u001b[0;36m<module>\u001b[0;34m\u001b[0m\n\u001b[1;32m      2\u001b[0m \u001b[0;34m\u001b[0m\u001b[0m\n\u001b[1;32m      3\u001b[0m \u001b[0mpx\u001b[0m\u001b[0;34m.\u001b[0m\u001b[0mset_mapbox_access_token\u001b[0m\u001b[0;34m(\u001b[0m\u001b[0mmy_token\u001b[0m\u001b[0;34m)\u001b[0m\u001b[0;34m\u001b[0m\u001b[0;34m\u001b[0m\u001b[0m\n\u001b[0;32m----> 4\u001b[0;31m fig = px.scatter_mapbox(gdf,\n\u001b[0m\u001b[1;32m      5\u001b[0m                         \u001b[0mlat\u001b[0m\u001b[0;34m=\u001b[0m\u001b[0mgdf\u001b[0m\u001b[0;34m.\u001b[0m\u001b[0mgeometry\u001b[0m\u001b[0;34m.\u001b[0m\u001b[0my\u001b[0m\u001b[0;34m,\u001b[0m\u001b[0;34m\u001b[0m\u001b[0;34m\u001b[0m\u001b[0m\n\u001b[1;32m      6\u001b[0m                         \u001b[0mlon\u001b[0m\u001b[0;34m=\u001b[0m\u001b[0mgdf\u001b[0m\u001b[0;34m.\u001b[0m\u001b[0mgeometry\u001b[0m\u001b[0;34m.\u001b[0m\u001b[0mx\u001b[0m\u001b[0;34m,\u001b[0m\u001b[0;34m\u001b[0m\u001b[0;34m\u001b[0m\u001b[0m\n",
      "\u001b[0;31mTypeError\u001b[0m: scatter_mapbox() got an unexpected keyword argument 'alpha'"
     ]
    }
   ],
   "source": [
    "my_token = 'pk.eyJ1IjoiamFtZXNhbmRlcnNvbjI3IiwiYSI6ImNsZXhodmowZzFvaWszcXFvOW5qdHNqMnEifQ.IQAE-RVuOyHpsIairftCBA'\n",
    "\n",
    "px.set_mapbox_access_token(my_token)\n",
    "fig = px.scatter_mapbox(gdf,\n",
    "                        lat=gdf.geometry.y,\n",
    "                        lon=gdf.geometry.x,\n",
    "                        hover_name=\"park_name\",\n",
    "                        zoom=5,\n",
    "                       )\n",
    "fig.update_layout(mapbox_style=\"open-street-map\")"
   ]
  },
  {
   "cell_type": "code",
   "execution_count": 80,
   "id": "986d12f1",
   "metadata": {},
   "outputs": [],
   "source": [
    "fig.write_html(\"map.html\")"
   ]
  },
  {
   "cell_type": "code",
   "execution_count": null,
   "id": "10951216",
   "metadata": {},
   "outputs": [],
   "source": []
  }
 ],
 "metadata": {
  "kernelspec": {
   "display_name": "Python 3 (ipykernel)",
   "language": "python",
   "name": "python3"
  },
  "language_info": {
   "codemirror_mode": {
    "name": "ipython",
    "version": 3
   },
   "file_extension": ".py",
   "mimetype": "text/x-python",
   "name": "python",
   "nbconvert_exporter": "python",
   "pygments_lexer": "ipython3",
   "version": "3.9.7"
  }
 },
 "nbformat": 4,
 "nbformat_minor": 5
}
