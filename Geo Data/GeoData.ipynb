{
 "cells": [
  {
   "cell_type": "markdown",
   "id": "6a89802c",
   "metadata": {},
   "source": [
    "## Creating the interactive landing page map\n",
    "________\n",
    "- Using GeoPandas and Plotly to render an interactive map\n",
    "- Reading from a file with a list of campgrounds and their latitudes\n",
    "    - Could add additional categorical information: dispersed / payed, not payed\n",
    "    \n",
    "    \n",
    "    \n",
    "Resources\n",
    "- https://www.mapbox.com\n",
    "- https://plotly.com\n",
    "- https://medium.com/towards-data-science/interactive-maps-with-python-pandas-and-plotly-following-bloggers-through-sydney-c24d6f30867e"
   ]
  },
  {
   "cell_type": "code",
   "execution_count": 6,
   "id": "1f7c988a",
   "metadata": {},
   "outputs": [],
   "source": [
    "import plotly.express as px\n",
    "import geopandas as gpd\n",
    "import pandas as pd\n",
    "import json"
   ]
  },
  {
   "cell_type": "code",
   "execution_count": 7,
   "id": "e8384f5e",
   "metadata": {},
   "outputs": [
    {
     "data": {
      "text/html": [
       "<div>\n",
       "<style scoped>\n",
       "    .dataframe tbody tr th:only-of-type {\n",
       "        vertical-align: middle;\n",
       "    }\n",
       "\n",
       "    .dataframe tbody tr th {\n",
       "        vertical-align: top;\n",
       "    }\n",
       "\n",
       "    .dataframe thead th {\n",
       "        text-align: right;\n",
       "    }\n",
       "</style>\n",
       "<table border=\"1\" class=\"dataframe\">\n",
       "  <thead>\n",
       "    <tr style=\"text-align: right;\">\n",
       "      <th></th>\n",
       "      <th>park_name</th>\n",
       "      <th>latitude</th>\n",
       "      <th>longitude</th>\n",
       "      <th>geometry</th>\n",
       "    </tr>\n",
       "  </thead>\n",
       "  <tbody>\n",
       "    <tr>\n",
       "      <th>0</th>\n",
       "      <td>Aspenglen Campground</td>\n",
       "      <td>40.399348</td>\n",
       "      <td>-105.593055</td>\n",
       "      <td>POINT (-105.59305 40.39935)</td>\n",
       "    </tr>\n",
       "    <tr>\n",
       "      <th>1</th>\n",
       "      <td>Backpacking Campsites in the Dunes or Forest</td>\n",
       "      <td>37.777240</td>\n",
       "      <td>-105.535601</td>\n",
       "      <td>POINT (-105.53560 37.77724)</td>\n",
       "    </tr>\n",
       "    <tr>\n",
       "      <th>2</th>\n",
       "      <td>Cimarron Campground</td>\n",
       "      <td>38.444304</td>\n",
       "      <td>-107.555543</td>\n",
       "      <td>POINT (-107.55554 38.44430)</td>\n",
       "    </tr>\n",
       "    <tr>\n",
       "      <th>3</th>\n",
       "      <td>Deerlodge Park Campground</td>\n",
       "      <td>40.446481</td>\n",
       "      <td>-108.513304</td>\n",
       "      <td>POINT (-108.51330 40.44648)</td>\n",
       "    </tr>\n",
       "    <tr>\n",
       "      <th>4</th>\n",
       "      <td>Dry Gulch Campground</td>\n",
       "      <td>38.484114</td>\n",
       "      <td>-107.188437</td>\n",
       "      <td>POINT (-107.18844 38.48411)</td>\n",
       "    </tr>\n",
       "  </tbody>\n",
       "</table>\n",
       "</div>"
      ],
      "text/plain": [
       "                                      park_name   latitude   longitude  \\\n",
       "0                          Aspenglen Campground  40.399348 -105.593055   \n",
       "1  Backpacking Campsites in the Dunes or Forest  37.777240 -105.535601   \n",
       "2                           Cimarron Campground  38.444304 -107.555543   \n",
       "3                     Deerlodge Park Campground  40.446481 -108.513304   \n",
       "4                          Dry Gulch Campground  38.484114 -107.188437   \n",
       "\n",
       "                      geometry  \n",
       "0  POINT (-105.59305 40.39935)  \n",
       "1  POINT (-105.53560 37.77724)  \n",
       "2  POINT (-107.55554 38.44430)  \n",
       "3  POINT (-108.51330 40.44648)  \n",
       "4  POINT (-107.18844 38.48411)  "
      ]
     },
     "execution_count": 7,
     "metadata": {},
     "output_type": "execute_result"
    }
   ],
   "source": [
    "with open('geodata.txt','r') as file:\n",
    "    text = file.read()\n",
    "    file.close()\n",
    "    \n",
    "text = text.replace(\"'\",'\"')\n",
    "geo_dict = json.loads(text)\n",
    "    \n",
    "df = pd.DataFrame(geo_dict)\n",
    "\n",
    "gdf = gpd.GeoDataFrame(\n",
    "    \n",
    "    df, geometry = gpd.points_from_xy( # creating the geometry object to be read by plotly\n",
    "        df.longitude,\n",
    "        df.latitude\n",
    "    )\n",
    ")\n",
    "gdf.head()"
   ]
  },
  {
   "cell_type": "code",
   "execution_count": 8,
   "id": "7651e73b",
   "metadata": {},
   "outputs": [],
   "source": [
    "my_token = 'pk.eyJ1IjoiamFtZXNhbmRlcnNvbjI3IiwiYSI6ImNsZXhodmowZzFvaWszcXFvOW5qdHNqMnEifQ.IQAE-RVuOyHpsIairftCBA'\n",
    "\n",
    "px.set_mapbox_access_token(my_token)\n",
    "fig = px.scatter_mapbox(gdf,\n",
    "                        lat=gdf.geometry.y,\n",
    "                        lon=gdf.geometry.x,\n",
    "                        hover_name=\"park_name\",\n",
    "                        zoom=5\n",
    "                       )\n",
    "fig.update_layout(mapbox_style=\"open-street-map\")\n",
    "\n",
    "fig.write_html(\"map.html\")"
   ]
  },
  {
   "cell_type": "code",
   "execution_count": null,
   "id": "8efb0012",
   "metadata": {},
   "outputs": [],
   "source": []
  }
 ],
 "metadata": {
  "kernelspec": {
   "display_name": "Python 3 (ipykernel)",
   "language": "python",
   "name": "python3"
  },
  "language_info": {
   "codemirror_mode": {
    "name": "ipython",
    "version": 3
   },
   "file_extension": ".py",
   "mimetype": "text/x-python",
   "name": "python",
   "nbconvert_exporter": "python",
   "pygments_lexer": "ipython3",
   "version": "3.9.7"
  }
 },
 "nbformat": 4,
 "nbformat_minor": 5
}
