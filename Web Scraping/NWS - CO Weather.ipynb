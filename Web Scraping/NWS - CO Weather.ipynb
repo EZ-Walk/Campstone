{
 "cells": [
  {
   "cell_type": "code",
   "execution_count": 3,
   "id": "0e9f33f5",
   "metadata": {},
   "outputs": [],
   "source": [
    "import requests\n",
    "import pandas as pd\n",
    "import json"
   ]
  },
  {
   "cell_type": "markdown",
   "id": "202c0cb1",
   "metadata": {},
   "source": [
    "## Pulling forecasting data (urls) from coordinates"
   ]
  },
  {
   "cell_type": "code",
   "execution_count": 4,
   "id": "f550c1bd",
   "metadata": {},
   "outputs": [],
   "source": [
    "lat='37.77724'\n",
    "long='-105.535601'\n",
    "\n",
    "url = 'https://api.weather.gov/points/{},{}'.format(lat,long)\n",
    "r = requests.get(url)\n",
    "content = r.content\n",
    "data = json.loads(content.decode('utf-8'))\n",
    "\n",
    "forecast_url = data['properties']['forecast']\n",
    "forecast_hourly_url = data['properties']['forecastHourly']\n",
    "fire_data_url = data['properties']['fireWeatherZone']\n",
    "\n",
    "r = requests.get(forecast_url)\n",
    "content = r.content\n",
    "forecast_data = json.loads(content.decode('utf-8'))\n",
    "\n",
    "r = requests.get(forecast_hourly_url)\n",
    "content = r.content\n",
    "forecast_hourly_data = json.loads(content.decode('utf-8'))\n",
    "\n",
    "r = requests.get(fire_data_url)\n",
    "content = r.content\n",
    "fire_data_url = json.loads(content.decode('utf-8'))\n"
   ]
  },
  {
   "cell_type": "markdown",
   "id": "42bfc669",
   "metadata": {},
   "source": [
    "## Forecast schema"
   ]
  },
  {
   "cell_type": "code",
   "execution_count": 5,
   "id": "fbc9682e",
   "metadata": {},
   "outputs": [
    {
     "data": {
      "text/plain": [
       "{'number': 1,\n",
       " 'name': 'Tonight',\n",
       " 'startTime': '2023-03-06T18:00:00-07:00',\n",
       " 'endTime': '2023-03-07T06:00:00-07:00',\n",
       " 'isDaytime': False,\n",
       " 'temperature': 23,\n",
       " 'temperatureUnit': 'F',\n",
       " 'temperatureTrend': None,\n",
       " 'probabilityOfPrecipitation': {'unitCode': 'wmoUnit:percent', 'value': None},\n",
       " 'dewpoint': {'unitCode': 'wmoUnit:degC', 'value': -13.333333333333334},\n",
       " 'relativeHumidity': {'unitCode': 'wmoUnit:percent', 'value': 52},\n",
       " 'windSpeed': '15 mph',\n",
       " 'windDirection': 'SSW',\n",
       " 'icon': 'https://api.weather.gov/icons/land/night/sct?size=medium',\n",
       " 'shortForecast': 'Partly Cloudy',\n",
       " 'detailedForecast': 'Partly cloudy, with a low around 23. South southwest wind around 15 mph.'}"
      ]
     },
     "execution_count": 5,
     "metadata": {},
     "output_type": "execute_result"
    }
   ],
   "source": [
    "forecast_data['properties']['periods'][0]"
   ]
  },
  {
   "cell_type": "markdown",
   "id": "4b005d0a",
   "metadata": {},
   "source": [
    "## Forecast hourly schema"
   ]
  },
  {
   "cell_type": "code",
   "execution_count": 6,
   "id": "3cb3550d",
   "metadata": {},
   "outputs": [
    {
     "data": {
      "text/plain": [
       "{'number': 1,\n",
       " 'name': '',\n",
       " 'startTime': '2023-03-06T18:00:00-07:00',\n",
       " 'endTime': '2023-03-06T19:00:00-07:00',\n",
       " 'isDaytime': False,\n",
       " 'temperature': 42,\n",
       " 'temperatureUnit': 'F',\n",
       " 'temperatureTrend': None,\n",
       " 'probabilityOfPrecipitation': {'unitCode': 'wmoUnit:percent', 'value': 2},\n",
       " 'dewpoint': {'unitCode': 'wmoUnit:degC', 'value': -19.444444444444443},\n",
       " 'relativeHumidity': {'unitCode': 'wmoUnit:percent', 'value': 15},\n",
       " 'windSpeed': '15 mph',\n",
       " 'windDirection': 'SW',\n",
       " 'icon': 'https://api.weather.gov/icons/land/night/sct,2?size=small',\n",
       " 'shortForecast': 'Partly Cloudy',\n",
       " 'detailedForecast': ''}"
      ]
     },
     "execution_count": 6,
     "metadata": {},
     "output_type": "execute_result"
    }
   ],
   "source": [
    "forecast_hourly_data['properties']['periods'][0]"
   ]
  }
 ],
 "metadata": {
  "kernelspec": {
   "display_name": "Python 3 (ipykernel)",
   "language": "python",
   "name": "python3"
  },
  "language_info": {
   "codemirror_mode": {
    "name": "ipython",
    "version": 3
   },
   "file_extension": ".py",
   "mimetype": "text/x-python",
   "name": "python",
   "nbconvert_exporter": "python",
   "pygments_lexer": "ipython3",
   "version": "3.9.7"
  }
 },
 "nbformat": 4,
 "nbformat_minor": 5
}
