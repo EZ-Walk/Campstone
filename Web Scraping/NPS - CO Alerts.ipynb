{
 "cells": [
  {
   "cell_type": "markdown",
   "id": "05085c74",
   "metadata": {},
   "source": [
    "# Caution Warnings\n",
    "### NPS API\n",
    "\n",
    "- API key (James'): *Vsv3OfLMOGtoptQS7V5zvYIKawJZ29UbTErkVLgl*\n",
    "- NPS API Documentation URL: https://www.nps.gov/subjects/developer/api-documentation.htm\n",
    "- NPS Github URL: https://github.com/nationalparkservice/nps-api-samples/blob/master/park-names-by-state.py"
   ]
  },
  {
   "cell_type": "code",
   "execution_count": 1,
   "id": "b80f83f6",
   "metadata": {},
   "outputs": [],
   "source": [
    "import requests\n",
    "import pandas as pd\n",
    "import json"
   ]
  },
  {
   "cell_type": "code",
   "execution_count": 2,
   "id": "813bd277",
   "metadata": {},
   "outputs": [],
   "source": [
    "api_key='&api_key=Vsv3OfLMOGtoptQS7V5zvYIKawJZ29UbTErkVLgl'\n",
    "\n",
    "url = 'https://developer.nps.gov/api/v1/alerts?stateCode=co'\n",
    "limits='&start=0&limit=50'\n",
    "r = requests.get(url+limits+api_key)\n",
    "content = r.content\n",
    "data = json.loads(content.decode('utf-8'))"
   ]
  },
  {
   "cell_type": "code",
   "execution_count": 28,
   "id": "832245f4",
   "metadata": {},
   "outputs": [],
   "source": [
    "title=[]\n",
    "park_code=[]\n",
    "message=[]\n",
    "\n",
    "for i,item in enumerate(data['data']):\n",
    "    title.append(item['title'])\n",
    "    park_code.append(item['parkCode'])\n",
    "    message.append(item['description'])\n",
    "    \n",
    "assert len(park_code)==len(message)==len(title)\n",
    "\n",
    "caution_dict = {\n",
    "    'title':title,\n",
    "    'park_code':park_code,\n",
    "    'message':message\n",
    "}\n",
    "\n",
    "with open('caution_warnings.txt','w') as file:\n",
    "    file.write(str(caution_dict))\n",
    "    file.close()"
   ]
  },
  {
   "cell_type": "code",
   "execution_count": null,
   "id": "e05c46f5",
   "metadata": {},
   "outputs": [],
   "source": []
  }
 ],
 "metadata": {
  "kernelspec": {
   "display_name": "Python 3 (ipykernel)",
   "language": "python",
   "name": "python3"
  },
  "language_info": {
   "codemirror_mode": {
    "name": "ipython",
    "version": 3
   },
   "file_extension": ".py",
   "mimetype": "text/x-python",
   "name": "python",
   "nbconvert_exporter": "python",
   "pygments_lexer": "ipython3",
   "version": "3.9.7"
  }
 },
 "nbformat": 4,
 "nbformat_minor": 5
}
