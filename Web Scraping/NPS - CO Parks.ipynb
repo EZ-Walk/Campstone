{
 "cells": [
  {
   "cell_type": "markdown",
   "id": "494a90b1",
   "metadata": {},
   "source": [
    "## Park Data\n",
    "___________________________\n",
    "\n",
    "- Drawing from the NPS API\n",
    "    - Output: \n",
    "        - Campground Dictionary\n",
    "            * Key --> site_name \n",
    "            * Value --> [\n",
    "                         lat/long,\n",
    "                            "
   ]
  },
  {
   "cell_type": "code",
   "execution_count": null,
   "id": "31562397",
   "metadata": {},
   "outputs": [],
   "source": [
    "import requests\n",
    "import pandas as pd\n",
    "import json"
   ]
  },
  {
   "cell_type": "code",
   "execution_count": 2,
   "id": "90a646ed",
   "metadata": {},
   "outputs": [],
   "source": [
    "api_key='&api_key=Vsv3OfLMOGtoptQS7V5zvYIKawJZ29UbTErkVLgl'\n",
    "\n",
    "url = 'https://developer.nps.gov/api/v1/parks?stateCode=co'\n",
    "limits='&start=0&limit=50'\n",
    "r = requests.get(url+limits+api_key)\n",
    "content = r.content\n",
    "data = json.loads(content.decode('utf-8'))\n",
    "\n",
    "print(type(data['data']),len(data['data']))"
   ]
  }
 ],
 "metadata": {
  "kernelspec": {
   "display_name": "Python 3 (ipykernel)",
   "language": "python",
   "name": "python3"
  },
  "language_info": {
   "codemirror_mode": {
    "name": "ipython",
    "version": 3
   },
   "file_extension": ".py",
   "mimetype": "text/x-python",
   "name": "python",
   "nbconvert_exporter": "python",
   "pygments_lexer": "ipython3",
   "version": "3.9.7"
  }
 },
 "nbformat": 4,
 "nbformat_minor": 5
}
