{
 "cells": [
  {
   "cell_type": "markdown",
   "id": "666bb3f7",
   "metadata": {},
   "source": [
    "## WeatherSpark Data\n",
    "___________________________\n",
    "\n",
    "- Drawing from the WeatherSpark API\n",
    "    - Input: lat/long\n",
    "    - Output: \n",
    "        - Climate Graph\n",
    "        - Precipitation Graph\n",
    "        - UV Graph\n",
    "        \n"
   ]
  },
  {
   "cell_type": "code",
   "execution_count": 1,
   "id": "c5634b61",
   "metadata": {},
   "outputs": [],
   "source": [
    "import requests\n",
    "import json"
   ]
  },
  {
   "cell_type": "raw",
   "id": "fa769031",
   "metadata": {},
   "source": [
    "Background camping Dune / Forest\n",
    "long: -105.535601\n",
    "lat: 37.77724"
   ]
  },
  {
   "cell_type": "code",
   "execution_count": 17,
   "id": "665f53ce",
   "metadata": {},
   "outputs": [],
   "source": [
    "api_key = '135722ab574f832a4f25d023ff7b006a12566167b27d195cb395e4dbc09a858b'\n",
    "acc_id = '3322'\n",
    "format_='json'\n",
    "databases='Point'\n",
    "points='37.77724,-105.535601'"
   ]
  },
  {
   "cell_type": "code",
   "execution_count": 18,
   "id": "2bf50164",
   "metadata": {},
   "outputs": [
    {
     "name": "stdout",
     "output_type": "stream",
     "text": [
      "https://api.askgeo.com/v1/3322/135722ab574f832a4f25d023ff7b006a12566167b27d195cb395e4dbc09a858b/query.json?databases=Point&points=37.77724,-105.535601\n"
     ]
    }
   ],
   "source": [
    "base_url = 'https://api.askgeo.com/v1/{acc_id}/{api_key}/query.{format_}?databases={databases}&points={points}'\n",
    "base_url = base_url.format(\n",
    "                acc_id=acc_id,\n",
    "                api_key=api_key,\n",
    "                format_=format_,\n",
    "                databases=databases,\n",
    "                points=points\n",
    "               )\n",
    "print(base_url)"
   ]
  },
  {
   "cell_type": "code",
   "execution_count": 19,
   "id": "166b8361",
   "metadata": {},
   "outputs": [
    {
     "name": "stdout",
     "output_type": "stream",
     "text": [
      "<class 'dict'>\n"
     ]
    },
    {
     "data": {
      "text/plain": [
       "dict_keys(['code', 'message', 'data'])"
      ]
     },
     "execution_count": 19,
     "metadata": {},
     "output_type": "execute_result"
    }
   ],
   "source": [
    "r = requests.get(base_url)\n",
    "content = r.content\n",
    "data = json.loads(content.decode('utf-8'))\n",
    "print(type(data))\n",
    "data.keys()"
   ]
  },
  {
   "cell_type": "code",
   "execution_count": 20,
   "id": "8e71f28e",
   "metadata": {},
   "outputs": [
    {
     "data": {
      "text/plain": [
       "'Account email not verified'"
      ]
     },
     "execution_count": 20,
     "metadata": {},
     "output_type": "execute_result"
    }
   ],
   "source": [
    "data['message']"
   ]
  },
  {
   "cell_type": "code",
   "execution_count": null,
   "id": "8ff27dcf",
   "metadata": {},
   "outputs": [],
   "source": []
  }
 ],
 "metadata": {
  "kernelspec": {
   "display_name": "Python 3 (ipykernel)",
   "language": "python",
   "name": "python3"
  },
  "language_info": {
   "codemirror_mode": {
    "name": "ipython",
    "version": 3
   },
   "file_extension": ".py",
   "mimetype": "text/x-python",
   "name": "python",
   "nbconvert_exporter": "python",
   "pygments_lexer": "ipython3",
   "version": "3.9.7"
  }
 },
 "nbformat": 4,
 "nbformat_minor": 5
}
