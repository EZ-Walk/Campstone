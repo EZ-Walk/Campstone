{
 "cells": [
  {
   "cell_type": "code",
   "execution_count": 1,
   "id": "4d13065d",
   "metadata": {},
   "outputs": [],
   "source": [
    "import requests\n",
    "import json"
   ]
  },
  {
   "cell_type": "raw",
   "id": "1dd6bc10",
   "metadata": {},
   "source": [
    "Background camping Dune / Forest\n",
    "long: -105.535601\n",
    "lat: 37.77724"
   ]
  },
  {
   "cell_type": "code",
   "execution_count": 26,
   "id": "35cd6c07",
   "metadata": {},
   "outputs": [],
   "source": [
    "api_key = '135722ab574f832a4f25d023ff7b006a12566167b27d195cb395e4dbc09a858b'\n",
    "acc_id = '3322'\n",
    "format_='json'\n",
    "databases='Point'\n",
    "points='37.77724,-105.535601'"
   ]
  },
  {
   "cell_type": "code",
   "execution_count": 30,
   "id": "de028300",
   "metadata": {},
   "outputs": [
    {
     "name": "stdout",
     "output_type": "stream",
     "text": [
      "https://api.askgeo.com/v1/3322/135722ab574f832a4f25d023ff7b006a12566167b27d195cb395e4dbc09a858b/query.json?databases=Point&points=37.77724,-105.535601\n"
     ]
    }
   ],
   "source": [
    "base_url = 'https://api.askgeo.com/v1/{acc_id}/{api_key}/query.{format_}?databases={databases}&points={points}'\n",
    "base_url = base_url.format(\n",
    "                acc_id=acc_id,\n",
    "                api_key=api_key,\n",
    "                format_=format_,\n",
    "                databases=databases,\n",
    "                points=points\n",
    "               )\n",
    "print(base_url)"
   ]
  },
  {
   "cell_type": "code",
   "execution_count": null,
   "id": "c686cbb5",
   "metadata": {},
   "outputs": [],
   "source": [
    "requests.get('https://api.askgeo.com/v1/3322/135722ab574f832a4f25d023ff7b006a12566167b27d195cb395e4dbc09a858b/query.json?databases=Point')\n",
    "\n"
   ]
  },
  {
   "cell_type": "code",
   "execution_count": null,
   "id": "8c18a29f",
   "metadata": {},
   "outputs": [],
   "source": []
  }
 ],
 "metadata": {
  "kernelspec": {
   "display_name": "Python 3 (ipykernel)",
   "language": "python",
   "name": "python3"
  },
  "language_info": {
   "codemirror_mode": {
    "name": "ipython",
    "version": 3
   },
   "file_extension": ".py",
   "mimetype": "text/x-python",
   "name": "python",
   "nbconvert_exporter": "python",
   "pygments_lexer": "ipython3",
   "version": "3.9.7"
  }
 },
 "nbformat": 4,
 "nbformat_minor": 5
}
