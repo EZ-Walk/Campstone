{
 "cells": [
  {
   "cell_type": "markdown",
   "id": "05085c74",
   "metadata": {},
   "source": [
    "# Alerts\n",
    "### NPS API\n",
    "\n",
    "- API key (James'): *Vsv3OfLMOGtoptQS7V5zvYIKawJZ29UbTErkVLgl*\n",
    "- NPS API Documentation URL: https://www.nps.gov/subjects/developer/api-documentation.htm\n",
    "- NPS Github URL: https://github.com/nationalparkservice/nps-api-samples/blob/master/park-names-by-state.py"
   ]
  },
  {
   "cell_type": "code",
   "execution_count": 2,
   "id": "b80f83f6",
   "metadata": {},
   "outputs": [],
   "source": [
    "import requests\n",
    "import pandas as pd\n",
    "import json"
   ]
  },
  {
   "cell_type": "code",
   "execution_count": 3,
   "id": "813bd277",
   "metadata": {},
   "outputs": [],
   "source": [
    "api_key='&api_key=Vsv3OfLMOGtoptQS7V5zvYIKawJZ29UbTErkVLgl'\n",
    "\n",
    "url = 'https://developer.nps.gov/api/v1/alerts?stateCode=co'\n",
    "limits='&start=0&limit=50'\n",
    "r = requests.get(url+limits+api_key)\n",
    "content = r.content\n",
    "data = json.loads(content.decode('utf-8'))"
   ]
  },
  {
   "cell_type": "code",
   "execution_count": 4,
   "id": "448934f4",
   "metadata": {},
   "outputs": [
    {
     "data": {
      "text/plain": [
       "25"
      ]
     },
     "execution_count": 4,
     "metadata": {},
     "output_type": "execute_result"
    }
   ],
   "source": [
    "len(data['data'])"
   ]
  },
  {
   "cell_type": "code",
   "execution_count": 5,
   "id": "6acf1d9d",
   "metadata": {},
   "outputs": [
    {
     "data": {
      "text/plain": [
       "{'id': 'BB9CDAFF-505D-4EA2-9EA4-B4A6A8A5386A',\n",
       " 'url': 'https://www.nps.gov/grsa/planyourvisit/visitor-center.htm',\n",
       " 'title': 'Visitor Center Closed for Renovations',\n",
       " 'parkCode': 'grsa',\n",
       " 'description': 'The visitor center will be closed to complete interior renovations. Ranger information and the WNPA park store are available in a temporary building located in the visitor center parking lot.',\n",
       " 'category': 'Information',\n",
       " 'lastIndexedDate': '2023-02-25 11:36:01.0'}"
      ]
     },
     "execution_count": 5,
     "metadata": {},
     "output_type": "execute_result"
    }
   ],
   "source": [
    "data['data'][0]"
   ]
  },
  {
   "cell_type": "code",
   "execution_count": null,
   "id": "832245f4",
   "metadata": {},
   "outputs": [],
   "source": []
  }
 ],
 "metadata": {
  "kernelspec": {
   "display_name": "Python 3 (ipykernel)",
   "language": "python",
   "name": "python3"
  },
  "language_info": {
   "codemirror_mode": {
    "name": "ipython",
    "version": 3
   },
   "file_extension": ".py",
   "mimetype": "text/x-python",
   "name": "python",
   "nbconvert_exporter": "python",
   "pygments_lexer": "ipython3",
   "version": "3.9.7"
  }
 },
 "nbformat": 4,
 "nbformat_minor": 5
}
