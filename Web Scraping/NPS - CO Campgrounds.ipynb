{
 "cells": [
  {
   "cell_type": "code",
   "execution_count": 2,
   "id": "9af52b29",
   "metadata": {},
   "outputs": [],
   "source": [
    "import requests\n",
    "import pandas as pd\n",
    "import json"
   ]
  },
  {
   "cell_type": "code",
   "execution_count": 3,
   "id": "bdfbd6dd",
   "metadata": {},
   "outputs": [],
   "source": [
    "api_key='&api_key=Vsv3OfLMOGtoptQS7V5zvYIKawJZ29UbTErkVLgl'\n",
    "\n",
    "url = 'https://developer.nps.gov/api/v1/campgrounds?stateCode=co'\n",
    "limits='&start=0&limit=400'\n",
    "r = requests.get(url+limits+api_key)\n",
    "content = r.content\n",
    "data = json.loads(content.decode('utf-8'))"
   ]
  },
  {
   "cell_type": "code",
   "execution_count": 4,
   "id": "04fb2d1f",
   "metadata": {},
   "outputs": [
    {
     "name": "stdout",
     "output_type": "stream",
     "text": [
      "<class 'list'>\n"
     ]
    },
    {
     "data": {
      "text/plain": [
       "30"
      ]
     },
     "execution_count": 4,
     "metadata": {},
     "output_type": "execute_result"
    }
   ],
   "source": [
    "print(type(data['data']))\n",
    "len(data['data'])"
   ]
  },
  {
   "cell_type": "code",
   "execution_count": 5,
   "id": "97538d4e",
   "metadata": {},
   "outputs": [
    {
     "data": {
      "text/plain": [
       "{'id': '7475825B-E844-4012-841B-0E29E05D4540',\n",
       " 'url': 'https://www.nps.gov/romo/planyourvisit/agcg.htm',\n",
       " 'name': 'Aspenglen Campground',\n",
       " 'parkCode': 'romo',\n",
       " 'description': 'Aspenglen Campground is reservation only. Visit Recreation.gov. Aspenglen opens for the 2023 season on May 26. Timed Entry Permits are included with your camping reservation. For Aspenglen Campers, your reservation includes access to Bear Lake Road. Campers will be able to initially enter the park beginning at 1 p.m. on the first day of your camping reservation. If you plan to enter the park earlier in the day, you will have to enter the park outside of the times when Timed Entry Permits are in effect.',\n",
       " 'latitude': '40.39934770583215',\n",
       " 'longitude': '-105.59305451637942',\n",
       " 'latLong': '{lat:40.39934770583215, lng:-105.59305451637942}',\n",
       " 'audioDescription': '',\n",
       " 'isPassportStampLocation': '0',\n",
       " 'passportStampLocationDescription': '',\n",
       " 'passportStampImages': [],\n",
       " 'geometryPoiId': '4D716569-72FA-4D90-8A4D-ED2475396A08',\n",
       " 'reservationInfo': 'Aspenglen Campground is a reservation only campground. All sites are reservable up to six months in advance.',\n",
       " 'reservationUrl': 'https://www.recreation.gov/camping/campgrounds/233187',\n",
       " 'regulationsurl': '',\n",
       " 'regulationsOverview': 'There is an eight (8) person limit per site. Each camping site is limited to: one camping unit (i.e., a tent, RV, or trailer/tow vehicle) plus one additional tent. All tents shall be located on the tent pad. All additional camp structures must be self standing without impacts to vegetation or trees. Parking is limited to two (2) vehicles per site. A vehicle is defined as one vehicle, one trailer, one RV, or one towed unit. Each vehicle must be parked on the gravel or paved parking pad causing no resource degradation or encroachment onto the paved access road. Some sites will accommodate only one vehicle on the graveled parking pad. Extra vehicles must park in overflow areas. Check-in is after 1 p.m. Bears, Deer, elk, raccoons and skunks frequent the area: all food, pet food, cooking utensils and other scented items must be stored in a vehicle or food storage lockers located in the campground. For more regulations, visit https://www.recreation.gov/camping/campgrounds/233187?tab=info under \"Need to Know.\"',\n",
       " 'amenities': {'trashRecyclingCollection': 'Yes - seasonal',\n",
       "  'toilets': ['Flush Toilets - seasonal'],\n",
       "  'internetConnectivity': 'No',\n",
       "  'showers': ['None'],\n",
       "  'cellPhoneReception': 'No',\n",
       "  'laundry': 'No',\n",
       "  'amphitheater': 'Yes - seasonal',\n",
       "  'dumpStation': 'No',\n",
       "  'campStore': 'No',\n",
       "  'staffOrVolunteerHostOnsite': 'Yes - seasonal',\n",
       "  'potableWater': ['Yes - seasonal'],\n",
       "  'iceAvailableForSale': 'Yes - seasonal',\n",
       "  'firewoodForSale': 'Yes - seasonal',\n",
       "  'foodStorageLockers': 'Yes - seasonal'},\n",
       " 'contacts': {'phoneNumbers': [{'phoneNumber': '9705861206',\n",
       "    'description': '',\n",
       "    'extension': '',\n",
       "    'type': 'Voice'}],\n",
       "  'emailAddresses': [{'description': '',\n",
       "    'emailAddress': 'romo_information@nps.gov'}]},\n",
       " 'fees': [{'cost': '30.00',\n",
       "   'description': 'Per site per night',\n",
       "   'title': 'Camping Fee'}],\n",
       " 'directionsOverview': 'Immediately west of the Fall River Entrance Station, follow signs south to Aspenglen Campground.',\n",
       " 'directionsUrl': '',\n",
       " 'operatingHours': [{'exceptions': [],\n",
       "   'description': 'Aspenglen Campground is closed for the season. For more information, visit https://www.recreation.gov/camping/campgrounds/233187',\n",
       "   'standardHours': {'wednesday': 'Closed',\n",
       "    'monday': 'Closed',\n",
       "    'thursday': 'Closed',\n",
       "    'sunday': 'Closed',\n",
       "    'tuesday': 'Closed',\n",
       "    'friday': 'Closed',\n",
       "    'saturday': 'Closed'},\n",
       "   'name': 'Aspenglen Campground'}],\n",
       " 'addresses': [{'postalCode': '80517',\n",
       "   'city': 'Estes Park',\n",
       "   'stateCode': 'CO',\n",
       "   'line1': 'Cascade Cottages Road',\n",
       "   'type': 'Physical',\n",
       "   'line3': '',\n",
       "   'line2': 'Rocky Mountain National Park'},\n",
       "  {'postalCode': '80517',\n",
       "   'city': 'Estes Park',\n",
       "   'stateCode': 'CO',\n",
       "   'line1': 'Aspenglen Campground',\n",
       "   'type': 'Mailing',\n",
       "   'line3': '',\n",
       "   'line2': '1000 US Highway 36'}],\n",
       " 'images': [{'credit': 'NPS Photo',\n",
       "   'crops': [],\n",
       "   'title': 'Aspenglen Campground',\n",
       "   'altText': 'Road through pines with tent sites',\n",
       "   'caption': 'Aspenglen Campground is nestled in a pine forest near Fall River',\n",
       "   'url': 'https://www.nps.gov/common/uploads/structured_data/3FAA6E89-1DD8-B71B-0B170E56BD4ED00D.jpg'},\n",
       "  {'credit': 'NPS Photo',\n",
       "   'crops': [],\n",
       "   'title': 'Campsite with popup camper and comfort station',\n",
       "   'altText': 'Popup camper at campsite with picnic table and comfort station',\n",
       "   'caption': 'A typical campsite at Aspenglen Campground.',\n",
       "   'url': 'https://www.nps.gov/common/uploads/structured_data/3FB3F3FE-1DD8-B71B-0B9E4BCE69676E6D.jpg'},\n",
       "  {'credit': 'NPS Photo',\n",
       "   'crops': [],\n",
       "   'title': 'Aspenglen Comfort Station',\n",
       "   'altText': 'Comfort station set in trees',\n",
       "   'caption': 'A comfort station (restroom) at Aspenglen Campground.',\n",
       "   'url': 'https://www.nps.gov/common/uploads/structured_data/3FC22E4A-1DD8-B71B-0B1EF349ED80CF5A.jpg'},\n",
       "  {'credit': 'NPS Photo',\n",
       "   'crops': [],\n",
       "   'title': 'Food Storage Locker',\n",
       "   'altText': 'A visitor places food in a food storage locker',\n",
       "   'caption': 'Use food storage lockers to protect food from bears and other wildlife.',\n",
       "   'url': 'https://www.nps.gov/common/uploads/structured_data/3FCBC8C3-1DD8-B71B-0BCD4A43E1924C05.jpg'}],\n",
       " 'weatherOverview': 'Average High and Low Temperatures (Fahrenheit): May: 62 / 34 June: 73 / 41 July: 78 / 46 August: 77 / 45 September: 70 / 38',\n",
       " 'numberOfSitesReservable': '54',\n",
       " 'numberOfSitesFirstComeFirstServe': '0',\n",
       " 'campsites': {'totalSites': '52',\n",
       "  'group': '0',\n",
       "  'horse': '0',\n",
       "  'tentOnly': '13',\n",
       "  'electricalHookups': '0',\n",
       "  'rvOnly': '0',\n",
       "  'walkBoatTo': '5',\n",
       "  'other': '0'},\n",
       " 'accessibility': {'wheelchairAccess': 'Two ADA sites are offered for those customers with a disability or otherwise limited mobility who would benefit from the accessibility design features.',\n",
       "  'internetInfo': '',\n",
       "  'cellPhoneInfo': '',\n",
       "  'fireStovePolicy': 'Fires are only allowed in metal fire grates. Never leave fires or coals unattended. Fires must be completely extinguished before leaving campsite or going to bed. Gathering firewood or fire-starting materials is prohibited.',\n",
       "  'rvAllowed': '1',\n",
       "  'rvInfo': 'Generators may be run only in Loop C between 7:30 - 10 am and 4 - 8:30 pm. There is no dump station—RV sewage and wastewater tanks must be emptied at the dump station located in Moraine Park Campground',\n",
       "  'rvMaxLength': '30',\n",
       "  'additionalInfo': 'All campers are required to store all food items in food storage lockers.',\n",
       "  'trailerMaxLength': '30',\n",
       "  'adaInfo': 'Two ADA sites are offered for those customers with a disability or otherwise limited mobility who would benefit from the accessibility design features.',\n",
       "  'trailerAllowed': '1',\n",
       "  'accessRoads': ['Paved Roads - All vehicles OK'],\n",
       "  'classifications': ['Developed Campground']},\n",
       " 'multimedia': [],\n",
       " 'lastIndexedDate': ''}"
      ]
     },
     "execution_count": 5,
     "metadata": {},
     "output_type": "execute_result"
    }
   ],
   "source": [
    "data['data'][0]"
   ]
  },
  {
   "cell_type": "code",
   "execution_count": null,
   "id": "3c526ee1",
   "metadata": {},
   "outputs": [],
   "source": []
  }
 ],
 "metadata": {
  "kernelspec": {
   "display_name": "Python 3 (ipykernel)",
   "language": "python",
   "name": "python3"
  },
  "language_info": {
   "codemirror_mode": {
    "name": "ipython",
    "version": 3
   },
   "file_extension": ".py",
   "mimetype": "text/x-python",
   "name": "python",
   "nbconvert_exporter": "python",
   "pygments_lexer": "ipython3",
   "version": "3.9.7"
  }
 },
 "nbformat": 4,
 "nbformat_minor": 5
}
