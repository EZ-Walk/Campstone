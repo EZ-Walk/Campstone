{
 "cells": [
  {
   "cell_type": "markdown",
   "id": "a5241cb8",
   "metadata": {},
   "source": [
    "## Campground Data\n",
    "___________________________\n",
    "\n",
    "- Drawing from the NPS API\n",
    "    - Input: Park Code\n",
    "    - Output: \n",
    "        - Campground Dictionary\n",
    "            * Key --> site_name \n",
    "            * Value --> lat/long "
   ]
  },
  {
   "cell_type": "code",
   "execution_count": 6,
   "id": "dd84c841",
   "metadata": {},
   "outputs": [],
   "source": [
    "import requests\n",
    "import pandas as pd\n",
    "import json"
   ]
  },
  {
   "cell_type": "code",
   "execution_count": 7,
   "id": "bdfbd6dd",
   "metadata": {},
   "outputs": [],
   "source": [
    "api_key='&api_key=Vsv3OfLMOGtoptQS7V5zvYIKawJZ29UbTErkVLgl'\n",
    "\n",
    "url = 'https://developer.nps.gov/api/v1/campgrounds?stateCode=co'\n",
    "limits='&start=0&limit=400'\n",
    "r = requests.get(url+limits+api_key)\n",
    "content = r.content\n",
    "data = json.loads(content.decode('utf-8'))"
   ]
  },
  {
   "cell_type": "code",
   "execution_count": 25,
   "id": "04fb2d1f",
   "metadata": {},
   "outputs": [
    {
     "name": "stdout",
     "output_type": "stream",
     "text": [
      "<class 'list'>\n"
     ]
    },
    {
     "data": {
      "text/plain": [
       "40.39934770583215"
      ]
     },
     "execution_count": 25,
     "metadata": {},
     "output_type": "execute_result"
    }
   ],
   "source": [
    "print(type(data['data']))\n",
    "len(data['data'])\n",
    "\n",
    "float(data['data'][0]['latitude'])"
   ]
  },
  {
   "cell_type": "markdown",
   "id": "c1ffdac6",
   "metadata": {},
   "source": [
    "## DICT OBJECT TO BE STORED IN GEO DIRECTORY"
   ]
  },
  {
   "cell_type": "code",
   "execution_count": 15,
   "id": "3c526ee1",
   "metadata": {},
   "outputs": [
    {
     "data": {
      "text/plain": [
       "30"
      ]
     },
     "execution_count": 15,
     "metadata": {},
     "output_type": "execute_result"
    }
   ],
   "source": [
    "len(data['data'])"
   ]
  },
  {
   "cell_type": "code",
   "execution_count": 31,
   "id": "3fa7eddc",
   "metadata": {},
   "outputs": [],
   "source": [
    "name=['']\n",
    "lat=[]\n",
    "long=[]\n",
    "\n",
    "for park in data['data']:\n",
    "    name.append(park[\"name\"])\n",
    "    lat.append(float(park[\"latitude\"]))\n",
    "    long.append(float(park[\"longitude\"]))\n",
    "    \n",
    "geo_dict={\n",
    "    \"park_name\":name,\n",
    "    \"latitude\":lat,\n",
    "    \"longitude\":long\n",
    "}"
   ]
  },
  {
   "cell_type": "code",
   "execution_count": 32,
   "id": "fbebf564",
   "metadata": {},
   "outputs": [],
   "source": [
    "file = open('geodata.txt','w')\n",
    "file.write(str(geo_dict))\n",
    "file.close()"
   ]
  },
  {
   "cell_type": "code",
   "execution_count": null,
   "id": "89eb7ee5",
   "metadata": {},
   "outputs": [],
   "source": []
  }
 ],
 "metadata": {
  "kernelspec": {
   "display_name": "Python 3 (ipykernel)",
   "language": "python",
   "name": "python3"
  },
  "language_info": {
   "codemirror_mode": {
    "name": "ipython",
    "version": 3
   },
   "file_extension": ".py",
   "mimetype": "text/x-python",
   "name": "python",
   "nbconvert_exporter": "python",
   "pygments_lexer": "ipython3",
   "version": "3.9.7"
  }
 },
 "nbformat": 4,
 "nbformat_minor": 5
}
