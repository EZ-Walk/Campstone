{
 "cells": [
  {
   "cell_type": "code",
   "execution_count": 2,
   "id": "9af52b29",
   "metadata": {},
   "outputs": [],
   "source": [
    "import requests\n",
    "import pandas as pd\n",
    "import json"
   ]
  },
  {
   "cell_type": "code",
   "execution_count": 3,
   "id": "bdfbd6dd",
   "metadata": {},
   "outputs": [],
   "source": [
    "api_key='&api_key=Vsv3OfLMOGtoptQS7V5zvYIKawJZ29UbTErkVLgl'\n",
    "\n",
    "url = 'https://developer.nps.gov/api/v1/campgrounds?stateCode=co'\n",
    "limits='&start=0&limit=400'\n",
    "r = requests.get(url+limits+api_key)\n",
    "content = r.content\n",
    "data = json.loads(content.decode('utf-8'))"
   ]
  },
  {
   "cell_type": "code",
   "execution_count": 4,
   "id": "04fb2d1f",
   "metadata": {},
   "outputs": [
    {
     "name": "stdout",
     "output_type": "stream",
     "text": [
      "<class 'list'>\n"
     ]
    },
    {
     "data": {
      "text/plain": [
       "30"
      ]
     },
     "execution_count": 4,
     "metadata": {},
     "output_type": "execute_result"
    }
   ],
   "source": [
    "print(type(data['data']))\n",
    "len(data['data'])"
   ]
  },
  {
   "cell_type": "code",
   "execution_count": 5,
   "id": "97538d4e",
   "metadata": {},
   "outputs": [
    {
     "data": {
      "text/plain": [
       "{'id': '9FA0E6D0-85F3-4388-92B1-26F408774F28',\n",
       " 'url': 'https://www.nps.gov/grsa/planyourvisit/backpacking.htm',\n",
       " 'name': 'Backpacking Campsites in the Dunes or Forest',\n",
       " 'parkCode': 'grsa',\n",
       " 'description': 'The most popular and unique backpacking option is camping in the 30-square-mile dunefield, beyond the major dune ridgeline (about 1.5 mile hike minimum over dunes). Enjoy wide open views of the starry sky or a bright moonlit night. Designated sites are also available in the trees of the foothills, or camping is available in higher forests of Great Sand Dunes National Preserve. Reserve national park backpacking permits for the dunes or foothills through recreation.gov',\n",
       " 'latitude': '37.77724',\n",
       " 'longitude': '-105.535601',\n",
       " 'latLong': '{lat:37.77724, lng:-105.535601}',\n",
       " 'audioDescription': 'The most popular and unique backpacking option is camping in the 30-square-mile dunefield, beyond the major dune ridgeline (about 1.5 mile hike minimum over dunes). Enjoy wide open views of the starry sky or a bright moonlit night. Designated sites are also available in the trees of the foothills, or camping is available in higher forests of Great Sand Dunes National Preserve. Reserve national park backpacking permits for the dunes or foothills through recreation.gov',\n",
       " 'isPassportStampLocation': '0',\n",
       " 'passportStampLocationDescription': '',\n",
       " 'passportStampImages': [],\n",
       " 'geometryPoiId': '',\n",
       " 'reservationInfo': 'Reserve national park backpacking permits through recreation.gov in advance up to the first day of your trip. Camping in the national preserve requires a free permit from the visitor center only if you are starting your trip in the national park.',\n",
       " 'reservationUrl': 'https://www.recreation.gov/permits/4675316',\n",
       " 'regulationsurl': 'https://www.nps.gov/grsa/planyourvisit/backpacking.htm',\n",
       " 'regulationsOverview': '- Maximum of six people per party/ group at all times - Gas stoves only; no campfires or wood burning stoves allowed - Dogs are not permitted in the dunes backcountry. Please visit our Pets web page for detailed information and maps of permitted pet areas. - Bears rarely visit the interior of the dunefield. Bear-proof containers are encouraged, but not required. - - - - Sand stakes are encouraged as most standard tent stakes do not work on the sand dunes. Plastic bags filled with sand can also help anchor your tent. - Plan to camp in the dunes only when weather is calm and clear to avoid blowing sand or dangerous thunderstorms with lightning; check the park weather forecast on our Weather webpage.',\n",
       " 'amenities': {'trashRecyclingCollection': 'No',\n",
       "  'toilets': ['No Toilets'],\n",
       "  'internetConnectivity': 'No',\n",
       "  'showers': ['None'],\n",
       "  'cellPhoneReception': 'Yes - year round',\n",
       "  'laundry': 'No',\n",
       "  'amphitheater': 'No',\n",
       "  'dumpStation': 'No',\n",
       "  'campStore': 'No',\n",
       "  'staffOrVolunteerHostOnsite': 'No',\n",
       "  'potableWater': ['Yes - seasonal'],\n",
       "  'iceAvailableForSale': 'No',\n",
       "  'firewoodForSale': 'No',\n",
       "  'foodStorageLockers': 'No'},\n",
       " 'contacts': {'phoneNumbers': [{'phoneNumber': '719-378-6395',\n",
       "    'description': '',\n",
       "    'extension': '',\n",
       "    'type': 'Voice'}],\n",
       "  'emailAddresses': [{'description': 'Contact email for questions about backpacking in the park and preserve',\n",
       "    'emailAddress': 'grsa_interpretation@nps.gov'}]},\n",
       " 'fees': [{'cost': '6.00',\n",
       "   'description': 'Fee to make a required reservation for a backpacking permit through recreation.gov',\n",
       "   'title': 'Backpacking Permit Fee'}],\n",
       " 'directionsOverview': 'To access the main park area, including the Dunes Parking Lot and backpacking trailheads, take CO Highway 150 from the south or County Road 6 from the west. Both are paved highways.',\n",
       " 'directionsUrl': 'https://www.nps.gov/grsa/planyourvisit/directions.htm',\n",
       " 'operatingHours': [],\n",
       " 'addresses': [{'postalCode': '81146',\n",
       "   'city': 'Mosca',\n",
       "   'stateCode': 'CO',\n",
       "   'line1': '11999 State Highway 150',\n",
       "   'type': 'Physical',\n",
       "   'line3': '',\n",
       "   'line2': 'Visitor Center'},\n",
       "  {'postalCode': '81146',\n",
       "   'city': 'Mosca',\n",
       "   'stateCode': 'CO',\n",
       "   'line1': '11999 State Highway 150',\n",
       "   'type': 'Mailing',\n",
       "   'line3': '',\n",
       "   'line2': 'Visitor Center'}],\n",
       " 'images': [{'credit': 'Kevin Winget',\n",
       "   'crops': [],\n",
       "   'title': 'Backpacking in the Dunes',\n",
       "   'altText': 'Backpackers walking on eastern side of dunefield',\n",
       "   'caption': 'Backpacking in the dunes is a unique experience, with open views of the sky.',\n",
       "   'url': 'https://www.nps.gov/common/uploads/structured_data/C2DE0ACB-CE7E-2786-5C2A77662123BBC5.jpg'},\n",
       "  {'credit': 'NPS/Patrick Myers',\n",
       "   'crops': [],\n",
       "   'title': 'Backpacker in Dunefield',\n",
       "   'altText': 'Girl with backpack viewing dunes at sunset',\n",
       "   'caption': 'Backpacking into the dunes is a unique experience, with open views of the sky.',\n",
       "   'url': 'https://www.nps.gov/common/uploads/structured_data/C3072B6A-C458-4D96-8445A961E9225022.jpg'}],\n",
       " 'weatherOverview': 'Spring can sometimes bring high winds, mainly in the afternoon. Temperatures may vary widely: highs may reach into the 70s F, or only into the 30s F with snow and an even colder wind chill. In summer, daytime high temperatures average 75-80 degrees F. However, sand surface temperatures can soar to 150 degrees F on sunny summer afternoons. Fall is generally mild, with Indian summer days. Highs average in the 60s - 70s F, with chilly nights in the 20s - 30s F. Frigid temperatures are the norm in winter.',\n",
       " 'numberOfSitesReservable': '27',\n",
       " 'numberOfSitesFirstComeFirstServe': '0',\n",
       " 'campsites': {'totalSites': '27',\n",
       "  'group': '0',\n",
       "  'horse': '24',\n",
       "  'tentOnly': '27',\n",
       "  'electricalHookups': '0',\n",
       "  'rvOnly': '0',\n",
       "  'walkBoatTo': '27',\n",
       "  'other': '0'},\n",
       " 'accessibility': {'wheelchairAccess': \"Dunes wheelchairs are available for free checkout from the visitor center, but require pushing through soft sand. It is beyond the average person's strength to push another adult over the first high ridge of dunes to camp in the backcountry. Backpacking sites in the foothills are not wheelchair accessible.\",\n",
       "  'internetInfo': 'Closest internet is in Alamosa, 40 miles southwest',\n",
       "  'cellPhoneInfo': 'Cell phone service is limited. A few carriers can reach the national park if you have line-of-sight with Alamosa.',\n",
       "  'fireStovePolicy': 'Gas stoves only',\n",
       "  'rvAllowed': '0',\n",
       "  'rvInfo': 'RVs and trailers may park at trailheads for backpacking, but visitors may not sleep in them at trailheads.',\n",
       "  'rvMaxLength': '0',\n",
       "  'additionalInfo': '',\n",
       "  'trailerMaxLength': '0',\n",
       "  'adaInfo': 'Backpacking into the dunefield and forested sites requires hiking or horsepacking over rough, uneven terrain, soft sand, and elevations over 8,200 feet. Weather can change quickly in the Rocky Mountains. There are no restroom facilities in the backcountry.',\n",
       "  'trailerAllowed': '0',\n",
       "  'accessRoads': ['Paved Roads - All vehicles OK'],\n",
       "  'classifications': ['Primitive Camping Areas']},\n",
       " 'multimedia': [],\n",
       " 'lastIndexedDate': ''}"
      ]
     },
     "execution_count": 5,
     "metadata": {},
     "output_type": "execute_result"
    }
   ],
   "source": [
    "data['data'][1]"
   ]
  },
  {
   "cell_type": "code",
   "execution_count": null,
   "id": "3c526ee1",
   "metadata": {},
   "outputs": [],
   "source": []
  }
 ],
 "metadata": {
  "kernelspec": {
   "display_name": "Python 3 (ipykernel)",
   "language": "python",
   "name": "python3"
  },
  "language_info": {
   "codemirror_mode": {
    "name": "ipython",
    "version": 3
   },
   "file_extension": ".py",
   "mimetype": "text/x-python",
   "name": "python",
   "nbconvert_exporter": "python",
   "pygments_lexer": "ipython3",
   "version": "3.9.7"
  }
 },
 "nbformat": 4,
 "nbformat_minor": 5
}
